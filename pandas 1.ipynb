{
 "cells": [
  {
   "cell_type": "code",
   "execution_count": 1,
   "id": "4d5ee567-f1b6-4abe-96e6-a8029358f484",
   "metadata": {},
   "outputs": [],
   "source": [
    "import pandas as pd\n",
    "import numpy as np"
   ]
  },
  {
   "cell_type": "markdown",
   "id": "87ea2129-3304-47ee-b3af-7b8db3cb5b4b",
   "metadata": {},
   "source": [
    "## series from list"
   ]
  },
  {
   "cell_type": "code",
   "execution_count": 4,
   "id": "ba4766ad-6f42-4934-a927-b0ec16ceb39c",
   "metadata": {},
   "outputs": [
    {
     "data": {
      "text/plain": [
       "0    india\n",
       "1    nepal\n",
       "2       uk\n",
       "dtype: object"
      ]
     },
     "execution_count": 4,
     "metadata": {},
     "output_type": "execute_result"
    }
   ],
   "source": [
    "#string\n",
    "st=['india','nepal','uk']\n",
    "pd.Series(st)"
   ]
  },
  {
   "cell_type": "code",
   "execution_count": 8,
   "id": "9c84695f-1b87-4c12-9e71-ccbd3cda541a",
   "metadata": {},
   "outputs": [
    {
     "data": {
      "text/plain": [
       "0    1\n",
       "1    2\n",
       "2    3\n",
       "3    4\n",
       "4    5\n",
       "dtype: int64"
      ]
     },
     "execution_count": 8,
     "metadata": {},
     "output_type": "execute_result"
    }
   ],
   "source": [
    "#integer\n",
    "num=[1,2,3,4,5]\n",
    "num=pd.Series(num)\n",
    "num"
   ]
  },
  {
   "cell_type": "code",
   "execution_count": 14,
   "id": "f9470ed2-0f92-434d-8cf5-edb40c79ddd5",
   "metadata": {},
   "outputs": [
    {
     "data": {
      "text/plain": [
       "Physics      98\n",
       "Chemistry    95\n",
       "English      92\n",
       "Maths        99\n",
       "Hindi        92\n",
       "dtype: int16"
      ]
     },
     "execution_count": 14,
     "metadata": {},
     "output_type": "execute_result"
    }
   ],
   "source": [
    "#customize index\n",
    "marks=[98,95,92,99,92]\n",
    "subjects=['Physics','Chemistry','English','Maths','Hindi']\n",
    "pd.Series(marks,index=subjects,dtype=np.int16)"
   ]
  },
  {
   "cell_type": "code",
   "execution_count": null,
   "id": "6b8be3ca-76ff-40d6-bf22-77b60ca37b53",
   "metadata": {},
   "outputs": [],
   "source": []
  }
 ],
 "metadata": {
  "kernelspec": {
   "display_name": "Python 3 (ipykernel)",
   "language": "python",
   "name": "python3"
  },
  "language_info": {
   "codemirror_mode": {
    "name": "ipython",
    "version": 3
   },
   "file_extension": ".py",
   "mimetype": "text/x-python",
   "name": "python",
   "nbconvert_exporter": "python",
   "pygments_lexer": "ipython3",
   "version": "3.10.9"
  }
 },
 "nbformat": 4,
 "nbformat_minor": 5
}
